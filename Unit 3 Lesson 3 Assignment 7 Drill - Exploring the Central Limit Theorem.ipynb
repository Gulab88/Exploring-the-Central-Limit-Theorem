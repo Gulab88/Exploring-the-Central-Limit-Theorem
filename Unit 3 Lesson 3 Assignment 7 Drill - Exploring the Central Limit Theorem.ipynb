{
 "cells": [
  {
   "cell_type": "code",
   "execution_count": 49,
   "metadata": {
    "collapsed": false
   },
   "outputs": [],
   "source": [
    "import numpy as np\n",
    "import pandas as pd\n",
    "import scipy\n",
    "import matplotlib.pyplot as plt\n",
    "%matplotlib inline "
   ]
  },
  {
   "cell_type": "code",
   "execution_count": 50,
   "metadata": {
    "collapsed": false
   },
   "outputs": [
    {
     "name": "stdout",
     "output_type": "stream",
     "text": [
      "2.0013\n",
      "4.9675\n",
      "1.27023553328\n",
      "1.59632194435\n"
     ]
    },
    {
     "data": {
      "image/png": "[encoded data removed]",
      "text/plain": [
       "<matplotlib.figure.Figure at 0x11089f278>"
      ]
     },
     "metadata": {},
     "output_type": "display_data"
    }
   ],
   "source": [
    "pop1 = np.random.binomial(10, 0.2, 10000)\n",
    "pop2 = np.random.binomial(10, 0.5, 10000)\n",
    "print(pop1.mean())\n",
    "print(pop2.mean())\n",
    "print(pop1.std())\n",
    "print(pop2.std())\n",
    "plt.hist(pop1, alpha=0.5, label='pop1') \n",
    "plt.hist(pop2, alpha=0.5, label='pop2') \n",
    "plt.legend(loc='upper right') \n",
    "plt.show()"
   ]
  },
  {
   "cell_type": "code",
   "execution_count": 51,
   "metadata": {
    "collapsed": false
   },
   "outputs": [
    {
     "name": "stdout",
     "output_type": "stream",
     "text": [
      "1.94\n",
      "4.9\n",
      "1.1385956262\n",
      "1.51327459504\n"
     ]
    }
   ],
   "source": [
    "#Sample size of 100\n",
    "sample1 = np.random.choice(pop1, 100, replace=True)\n",
    "sample2 = np.random.choice(pop2, 100, replace=True)\n",
    "print(sample1.mean())\n",
    "print(sample2.mean())\n",
    "print(sample1.std())\n",
    "print(sample2.std())"
   ]
  },
  {
   "cell_type": "code",
   "execution_count": 52,
   "metadata": {
    "collapsed": false
   },
   "outputs": [
    {
     "name": "stdout",
     "output_type": "stream",
     "text": [
      "2.043\n",
      "4.94\n",
      "1.29967342052\n",
      "1.60885052134\n"
     ]
    },
    {
     "data": {
      "image/png": "[encoded data removed]",
      "text/plain": [
       "<matplotlib.figure.Figure at 0x1106591d0>"
      ]
     },
     "metadata": {},
     "output_type": "display_data"
    }
   ],
   "source": [
    "#When the sample size increases, the mean and standard \n",
    "#deviation will be a more accurate estimate of the \n",
    "#population mean and std. When the sample size decreases,\n",
    "#the opposite will happen.\n",
    "\n",
    "#Increasing sample size to 1000\n",
    "sample1_1 = np.random.choice(pop1, 1000, replace=True)\n",
    "sample2_1 = np.random.choice(pop2, 1000, replace=True)\n",
    "print(sample1_1.mean())\n",
    "print(sample2_1.mean())\n",
    "print(sample1_1.std())\n",
    "print(sample2_1.std())\n",
    "\n",
    "plt.hist(sample1_1, alpha=0.5, label='sample 1_1') \n",
    "plt.hist(sample2_1, alpha=0.5, label='sample 2_1') \n",
    "plt.legend(loc='upper right') \n",
    "plt.show()"
   ]
  },
  {
   "cell_type": "code",
   "execution_count": 53,
   "metadata": {
    "collapsed": false
   },
   "outputs": [
    {
     "name": "stdout",
     "output_type": "stream",
     "text": [
      "2.3\n",
      "5.1\n",
      "1.30766968306\n",
      "1.22065556157\n"
     ]
    },
    {
     "data": {
      "image/png": "[encoded data removed]",
      "text/plain": [
       "<matplotlib.figure.Figure at 0x1109f02b0>"
      ]
     },
     "metadata": {},
     "output_type": "display_data"
    }
   ],
   "source": [
    "#Decreasing sample size to 20 \n",
    "\n",
    "sample1_2 = np.random.choice(pop1, 20, replace=True)\n",
    "sample2_2 = np.random.choice(pop2, 20, replace=True)\n",
    "print(sample1_2.mean())\n",
    "print(sample2_2.mean())\n",
    "print(sample1_2.std())\n",
    "print(sample2_2.std())\n",
    "\n",
    "plt.hist(sample1_2, alpha=0.5, label='sample 1_2') \n",
    "plt.hist(sample2_2, alpha=0.5, label='sample 2_2') \n",
    "plt.legend(loc='upper right') \n",
    "plt.show()"
   ]
  },
  {
   "cell_type": "code",
   "execution_count": 54,
   "metadata": {
    "collapsed": true
   },
   "outputs": [],
   "source": [
    "#1. The sample means and stds all change depending on \n",
    "#the sample size. "
   ]
  },
  {
   "cell_type": "code",
   "execution_count": 55,
   "metadata": {
    "collapsed": false
   },
   "outputs": [
    {
     "data": {
      "image/png": "[encoded data removed]",
      "text/plain": [
       "<matplotlib.figure.Figure at 0x10a498208>"
      ]
     },
     "metadata": {},
     "output_type": "display_data"
    },
    {
     "name": "stdout",
     "output_type": "stream",
     "text": [
      "3.03 1.45914358444\n",
      "5.06 1.44097189424\n",
      "Ttest_indResult(statistic=9.8492875430266196, pvalue=7.0302313679527514e-19)\n"
     ]
    }
   ],
   "source": [
    "#2, as the populations' p's become closer, their respective samples when compared \n",
    "#will show a higher t-statistics and a lower p-value. As the p's \n",
    "#become more different, the opposite effect will be observed.\n",
    "\n",
    "\n",
    "#2.1 Changed pop1 p to 0.3 and now compute t-statistic\n",
    "#and p-value on samples\n",
    "\n",
    "pop1 = np.random.binomial(10, 0.3, 10000)\n",
    "pop2 = np.random.binomial(10, 0.5, 10000)\n",
    "\n",
    "sample1= np.random.choice(pop1,100, replace=True)\n",
    "sample2 = np.random.choice(pop2,100, replace=True)\n",
    "plt.hist(pop1, alpha=0.5, label=\"Sample 1\")\n",
    "plt.hist(pop2, alpha=0.5, label = \"Sample 2\")\n",
    "plt.legend(loc='upper right')\n",
    "plt.show()\n",
    "print(sample1.mean(), sample1.std())\n",
    "print(sample2.mean(), sample2.std())\n",
    "\n",
    "from scipy.stats import ttest_ind\n",
    "print(ttest_ind(sample2, sample1, equal_var = False))"
   ]
  },
  {
   "cell_type": "code",
   "execution_count": 56,
   "metadata": {
    "collapsed": false
   },
   "outputs": [
    {
     "data": {
      "image/png": "[encoded data removed]",
      "text/plain": [
       "<matplotlib.figure.Figure at 0x1106e1f60>"
      ]
     },
     "metadata": {},
     "output_type": "display_data"
    },
    {
     "name": "stdout",
     "output_type": "stream",
     "text": [
      "4.17 1.35687140142\n",
      "4.79 1.65102998156\n",
      "Ttest_indResult(statistic=2.8866476814591047, pvalue=0.0043426574132407487)\n"
     ]
    }
   ],
   "source": [
    "#2.2 Changed pop1 p to 0.4 and now compute t-statistic\n",
    "#and p-value on samples\n",
    "\n",
    "pop1 = np.random.binomial(10, 0.4, 10000)\n",
    "pop2 = np.random.binomial(10, 0.5, 10000)\n",
    "\n",
    "sample1= np.random.choice(pop1,100, replace=True)\n",
    "sample2 = np.random.choice(pop2,100, replace=True)\n",
    "plt.hist(pop1, alpha=0.5, label=\"Sample 1\")\n",
    "plt.hist(pop2, alpha=0.5, label = \"Sample 2\")\n",
    "plt.legend(loc='upper right')\n",
    "plt.show()\n",
    "print(sample1.mean(), sample1.std())\n",
    "print(sample2.mean(), sample2.std())\n",
    "\n",
    "from scipy.stats import ttest_ind\n",
    "print(ttest_ind(sample2, sample1, equal_var = False))\n"
   ]
  },
  {
   "cell_type": "code",
   "execution_count": 57,
   "metadata": {
    "collapsed": true
   },
   "outputs": [],
   "source": [
    "#2 Analysis: The sample means and stds are farther apart when pop1 p is changed to \n",
    "#0.3 than they are when pop1 p is changed to 0.4. In the latter case,\n",
    "#they are closer together. The t-static is higher and p-value is lower when p=.3 and p=.5 for pop1\n",
    "#and pop2 respectively, and the t-statistic is lower and p-value is higher when pop1 p=.4 and pop2 p =.5.\n",
    "#This is observed because as the p's for pop1 and pop2 become closer, \n",
    "#the populations become more similar. "
   ]
  },
  {
   "cell_type": "code",
   "execution_count": 58,
   "metadata": {
    "collapsed": false
   },
   "outputs": [
    {
     "name": "stdout",
     "output_type": "stream",
     "text": [
      "10.0014613792 9.9945677312\n",
      "10.0057957202 9.95697127212\n"
     ]
    }
   ],
   "source": [
    "#3.Binomial dist. pops changed to normal dist pops.\n",
    "#The sample mean values will still accurately reflect the population\n",
    "#values IF the samples are large enough. The samples are taken from\n",
    "#normally distributed populations, so the sample size shouldn't have to \n",
    "#be too large to have a representative mean. \n",
    "\n",
    "pop1 = np.random.normal(10, 0.2, 10000)\n",
    "pop2 = np.random.normal(10, 0.5, 10000)\n",
    "print(pop1.mean(), pop2.mean())\n",
    "\n",
    "sample1 = np.random.choice(pop1, 100, replace=True)\n",
    "sample2 = np.random.choice(pop2, 100, replace=True)\n",
    "print(sample1.mean(), sample2.mean())\n",
    "\n",
    "#Yes, in the case of samples taken from a normally distributed population\n",
    "#the sample means do accurately represent the population means with 100 \n",
    "#sample data points in each of the samples taken.\n",
    "\n"
   ]
  }
 ],
 "metadata": {
  "kernelspec": {
   "display_name": "Python 3",
   "language": "python",
   "name": "python3"
  },
  "language_info": {
   "codemirror_mode": {
    "name": "ipython",
    "version": 3
   },
   "file_extension": ".py",
   "mimetype": "text/x-python",
   "name": "python",
   "nbconvert_exporter": "python",
   "pygments_lexer": "ipython3",
   "version": "3.6.0"
  }
 },
 "nbformat": 4,
 "nbformat_minor": 2
}
